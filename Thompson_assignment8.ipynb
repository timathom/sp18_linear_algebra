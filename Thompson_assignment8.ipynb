{
 "cells": [
  {
   "cell_type": "code",
   "execution_count": 1,
   "metadata": {
    "collapsed": true
   },
   "outputs": [],
   "source": [
    "\"\"\"Assignment 8\n",
    "\n",
    "@author: Tim Thompson, timathom@indiana.edu\n",
    "\"\"\"\n",
    "\n",
    "import numpy as np\n",
    "import matplotlib.pyplot as plt\n",
    "from numdifftools import Derivative\n",
    "from sympy import *\n",
    "from sympy.abc import x, y, a, b\n",
    "from sympy import solve, solveset, S, N\n",
    "from sympy import init_printing, Matrix, pprint, Transpose\n",
    "from scipy.special import factorial\n",
    "import math\n",
    "\n",
    "init_printing()"
   ]
  },
  {
   "cell_type": "markdown",
   "metadata": {},
   "source": [
    "1."
   ]
  },
  {
   "cell_type": "code",
   "execution_count": 2,
   "metadata": {},
   "outputs": [
    {
     "name": "stdout",
     "output_type": "stream",
     "text": [
      "⎡1  0⎤\n",
      "⎢    ⎥\n",
      "⎣0  1⎦\n",
      "⎡5  -5⎤\n",
      "⎢     ⎥\n",
      "⎣4  -4⎦\n",
      "A * A = A True\n",
      "B * B = B True\n"
     ]
    }
   ],
   "source": [
    "A = eye(2)\n",
    "pprint(A)\n",
    "\n",
    "B = Matrix([[5, -5], [4, -4]])\n",
    "pprint(B)\n",
    "\n",
    "print(\"A * A = A\", A * A == A)\n",
    "print(\"B * B = B\", B * B == B)"
   ]
  },
  {
   "cell_type": "markdown",
   "metadata": {},
   "source": [
    "2.\n",
    "\n",
    "The rule states that (AB)^T = B^T * A^T. Therefore, (AB)^T = A^T * B^T will never be true for any example."
   ]
  },
  {
   "cell_type": "code",
   "execution_count": 3,
   "metadata": {},
   "outputs": [
    {
     "name": "stdout",
     "output_type": "stream",
     "text": [
      "False\n"
     ]
    }
   ],
   "source": [
    "A2 = Matrix([[1, 2], [3, 4]])\n",
    "B2 = Matrix([[5, 0], [1, 2]])\n",
    "print((A2 * B2).T == (A2.T * B2.T))"
   ]
  },
  {
   "cell_type": "markdown",
   "metadata": {},
   "source": [
    "3.\n",
    "\n",
    "Taking a 3x3 matrix as an example: with a column vector, the matrix is multiplied by a column vector. However, with a row vector, the row vector is multiplied by the transpose of the matrix:"
   ]
  },
  {
   "cell_type": "code",
   "execution_count": 4,
   "metadata": {},
   "outputs": [
    {
     "name": "stdout",
     "output_type": "stream",
     "text": [
      "Matrix/vector product: \n",
      "⎡14⎤\n",
      "⎢  ⎥\n",
      "⎢32⎥\n",
      "⎢  ⎥\n",
      "⎣50⎦\n",
      "Vector/matrix transpose product: \n",
      "[14  32  50]\n"
     ]
    }
   ],
   "source": [
    "D = Matrix([[1, 2, 3], [4, 5, 6], [7, 8, 9]])\n",
    "D_ = Matrix([[1, 2, 3], [4, 5, 6], [7, 8, 9]])\n",
    "row = Matrix([[1, 2, 3]])\n",
    "col = Matrix([1, 2, 3])\n",
    "\n",
    "\n",
    "print(\"Matrix/vector product: \")\n",
    "pprint(D * col)\n",
    "\n",
    "print(\"Vector/matrix transpose product: \")\n",
    "pprint(row * D.T)"
   ]
  },
  {
   "cell_type": "markdown",
   "metadata": {},
   "source": [
    "4.\n",
    "\n",
    "These are two ways of explaining the same thing. The transpose of a column vector is a row vector. On the one hand, we have a matrix-vector product (M * v), whereas on the other hand we have a vector-matrix product (v^T * M).\n",
    "\n",
    "When multiplied with a row vector, the matrix product is computed row-wise along each column, \"folding\" the matrix into a single row."
   ]
  },
  {
   "cell_type": "markdown",
   "metadata": {},
   "source": [
    "5.\n",
    "\n",
    "Dot product\n",
    "\n",
    "The dot product is the sum of the product of corresponding entries in two vectors:"
   ]
  },
  {
   "cell_type": "code",
   "execution_count": 5,
   "metadata": {},
   "outputs": [
    {
     "name": "stdout",
     "output_type": "stream",
     "text": [
      "[49]\n"
     ]
    }
   ],
   "source": [
    "u = Matrix([1, 2, 4])\n",
    "v = Matrix([5, 6, 8])\n",
    "\n",
    "pprint(u.T * v)"
   ]
  },
  {
   "cell_type": "markdown",
   "metadata": {},
   "source": [
    "In matrix multiplication, the product matrix is the result of taking the dot product of the rows in the left-hand matrix by the columns in the right-hand matrix."
   ]
  },
  {
   "cell_type": "code",
   "execution_count": 6,
   "metadata": {},
   "outputs": [
    {
     "name": "stdout",
     "output_type": "stream",
     "text": [
      "⎡5.2   5.92⎤\n",
      "⎢          ⎥\n",
      "⎣7.72  8.8 ⎦\n"
     ]
    }
   ],
   "source": [
    "U = Matrix(2, 3, np.linspace(1, 2, 6))\n",
    "V = Matrix(3, 2, np.linspace(1, 2, 6))\n",
    "\n",
    "pprint(U * V)"
   ]
  },
  {
   "cell_type": "markdown",
   "metadata": {},
   "source": [
    "Outer product\n",
    "\n",
    "The outer product of 2 n x m vectors is an n x m matrix where each element in the first vector is multiplied by each element in the second vector:"
   ]
  },
  {
   "cell_type": "code",
   "execution_count": 7,
   "metadata": {},
   "outputs": [
    {
     "name": "stdout",
     "output_type": "stream",
     "text": [
      "Outer product of column vector and row vector: \n",
      "⎡1  2  3⎤\n",
      "⎢       ⎥\n",
      "⎢2  4  6⎥\n",
      "⎢       ⎥\n",
      "⎣3  6  9⎦\n"
     ]
    }
   ],
   "source": [
    "print(\"Outer product of column vector and row vector: \")\n",
    "\n",
    "pprint(col * row)"
   ]
  },
  {
   "cell_type": "markdown",
   "metadata": {},
   "source": [
    "6."
   ]
  },
  {
   "cell_type": "code",
   "execution_count": 8,
   "metadata": {},
   "outputs": [
    {
     "name": "stdout",
     "output_type": "stream",
     "text": [
      "True\n",
      "True\n",
      "True\n",
      "True\n",
      "True\n"
     ]
    }
   ],
   "source": [
    "A = Matrix(2, 2, np.arange(3, 7))\n",
    "B = Matrix(2, 2, np.arange(8, 12))\n",
    "C = Matrix(2, 2, np.arange(13, 17))\n",
    "\n",
    "# Associative Laws:\n",
    "\n",
    "print((A + B) + C == A + (B + C))\n",
    "print((A * B) * C == A * (B * C))\n",
    "\n",
    "# Commutative Law for Addition:\n",
    "\n",
    "print((A + B) == (B + A))\n",
    "\n",
    "# Distributive Laws:\n",
    "\n",
    "print(A * (B + C) == (A * B) + (A * C))\n",
    "print((A + B) * C == (A * C) + (B * C))"
   ]
  },
  {
   "cell_type": "markdown",
   "metadata": {
    "collapsed": true
   },
   "source": [
    "7.\n",
    "\n",
    "Matrix multiplication is defined as it is in order to enable complex transformations from one vector space to another. For me, the most intuitive explanation in the Stack Overflow thread was [1], which describes matrix multiplication as the transformation of a set of points into a new set of points (visualized as \"clouds\" of points). The whole cloud is transformed at once in a linear fashion, so that the relations between points are kept \"smooth\" and constant.\n",
    "\n",
    "Similar intutions were presented in the BetterExplained discussion. Data is passed through a function to be encoded as new data in a linear fashion.\n",
    "\n",
    "[1] https://math.stackexchange.com/questions/31725/intuition-behind-matrix-multiplication#answer-31797"
   ]
  }
 ],
 "metadata": {
  "kernelspec": {
   "display_name": "Python 3",
   "language": "python",
   "name": "python3"
  },
  "language_info": {
   "codemirror_mode": {
    "name": "ipython",
    "version": 3
   },
   "file_extension": ".py",
   "mimetype": "text/x-python",
   "name": "python",
   "nbconvert_exporter": "python",
   "pygments_lexer": "ipython3",
   "version": "3.6.3"
  }
 },
 "nbformat": 4,
 "nbformat_minor": 2
}
