{
 "cells": [
  {
   "cell_type": "code",
   "execution_count": 3,
   "metadata": {
    "collapsed": true
   },
   "outputs": [],
   "source": [
    "\"\"\"Assignment 2\n",
    "\n",
    "@author: Tim Thompson, timathom@indiana.edu\n",
    "\"\"\"\n",
    "\n",
    "import numpy as np\n",
    "import matplotlib.pyplot as plt\n",
    "from itertools import product\n",
    "from matplotlib_venn import venn2\n",
    "from matplotlib_venn import venn3"
   ]
  },
  {
   "cell_type": "markdown",
   "metadata": {},
   "source": [
    "1.\n",
    "\n",
    "Z = {x | x in N or x in {-1 * N}}\n",
    "The set of integers Z can be represented by N if x in Z is an element in the set {N} or an element in the set\n",
    "{-1 * N} (for negative integers)."
   ]
  },
  {
   "cell_type": "markdown",
   "metadata": {},
   "source": [
    "2.\n",
    "\n",
    "According to Russell's Paradox, R = {x | x is not an element in x} is a contradiction. If it were true, then R would\n",
    "be both a member of itself and not a member of itself at the same time."
   ]
  },
  {
   "cell_type": "markdown",
   "metadata": {},
   "source": [
    "3.\n",
    "\n",
    "{x | x in S and x not in T}"
   ]
  },
  {
   "cell_type": "code",
   "execution_count": 13,
   "metadata": {},
   "outputs": [
    {
     "name": "stdout",
     "output_type": "stream",
     "text": [
      "List comprehension as set operation:  [1, 2, 3]\n"
     ]
    }
   ],
   "source": [
    "S = {1, 2, 3, 4, 5, 6}\n",
    "T = {4, 5, 6}\n",
    "\n",
    "# Here, x is the output and variable, \"for x in S\" is the input set, and \"if x not in T\" is the conditional statement.\n",
    "s = [x for x in S if x not in T]\n",
    "print(\"List comprehension as set operation: \", s)"
   ]
  },
  {
   "cell_type": "markdown",
   "metadata": {},
   "source": [
    "4."
   ]
  },
  {
   "cell_type": "code",
   "execution_count": 14,
   "metadata": {},
   "outputs": [
    {
     "name": "stdout",
     "output_type": "stream",
     "text": [
      "Cartesian product:  [[31 71]\n",
      " [31 65]\n",
      " [ 4 71]\n",
      " [ 4 65]]\n"
     ]
    }
   ],
   "source": [
    "def cartesian_product(a, b):\n",
    "    \"\"\"Calculates the Cartesian product of two input vectors and returns a numpy array.\n",
    "    \"\"\"\n",
    "    tmp = []\n",
    "    for a2 in a:\n",
    "        for b2 in b:\n",
    "            tmp.append([a2, b2])\n",
    "    return np.array(tmp)\n",
    "\n",
    "\n",
    "arr1 = np.array([31, 4])\n",
    "arr2 = np.array([71, 65])\n",
    "\n",
    "print(\"Cartesian product: \", cartesian_product(arr1, arr2))"
   ]
  },
  {
   "cell_type": "markdown",
   "metadata": {},
   "source": [
    "5.\n",
    "\n",
    "Python dictionaries do not have set operations like union, intersection, etc., because dictionary values are not immutable like set values. For example, the \"union\" of two dictionaries, {\"foo\": 1, \"bar\": 2} and {\"bar\": \"two\"} would simply update the value of the \"bar\" key with the new value \"two,\" rather than preserve each distinct value as an element in the set."
   ]
  },
  {
   "cell_type": "code",
   "execution_count": 15,
   "metadata": {},
   "outputs": [
    {
     "name": "stdout",
     "output_type": "stream",
     "text": [
      "Value of \"bar\" has changed:  {'foo': 1, 'bar': 'two'}\n"
     ]
    }
   ],
   "source": [
    "d = {\"foo\": 1, \"bar\": 2}\n",
    "d2 = {\"bar\": \"two\"}\n",
    "\n",
    "d.update(d2)\n",
    "print('Value of \"bar\" has changed: ', d)"
   ]
  },
  {
   "cell_type": "markdown",
   "metadata": {},
   "source": [
    "6."
   ]
  },
  {
   "cell_type": "code",
   "execution_count": 4,
   "metadata": {},
   "outputs": [
    {
     "name": "stdout",
     "output_type": "stream",
     "text": [
      "Simplifies to empty set:  set()\n"
     ]
    }
   ],
   "source": [
    "# This expression simplifies to the empty set, as demonstrated by the following Python expression:\n",
    "print(\"Simplifies to empty set: \", \\\n",
    "    set(product((set() | set(set())), (set(tuple((tuple(set(set())), tuple(set())))) & set(set(set(set())))))))"
   ]
  },
  {
   "cell_type": "markdown",
   "metadata": {},
   "source": [
    "7.\n",
    "\n",
    "After removing the `get_label_by_id` lines, the Venn diagram labels default to the number of unique elements: the number of elements in the intersection of S and T is 3. There is 1 element unique to T, and there are 2 elements unique in S."
   ]
  },
  {
   "cell_type": "code",
   "execution_count": 17,
   "metadata": {},
   "outputs": [
    {
     "data": {
      "image/png": "[encoded data removed]",
      "text/plain": [
       "<matplotlib.figure.Figure at 0x7fd571167b70>"
      ]
     },
     "metadata": {},
     "output_type": "display_data"
    }
   ],
   "source": [
    "S2 = {31, 4, 71, 65, 1773}\n",
    "T2 = {71, 65, 1773, 19}\n",
    "v = venn2([S2, T2], set_labels=('S', 'T'))\n",
    "# v.get_label_by_id('10').set_text(S2 - T2)\n",
    "# v.get_label_by_id('01').set_text(T2 - S2)\n",
    "# v.get_label_by_id('11').set_text(S2 & T2)\n",
    "plt.show()"
   ]
  },
  {
   "cell_type": "markdown",
   "metadata": {},
   "source": [
    "8."
   ]
  },
  {
   "cell_type": "code",
   "execution_count": 18,
   "metadata": {},
   "outputs": [
    {
     "data": {
      "image/png": "[encoded data removed]",
      "text/plain": [
       "<matplotlib.figure.Figure at 0x7fd571247eb8>"
      ]
     },
     "metadata": {},
     "output_type": "display_data"
    }
   ],
   "source": [
    "S3 = {31, 4, 71, 65, 1773}\n",
    "T3 = {71, 65, 1773, 19}\n",
    "U = {4, 65, 19}\n",
    "v = venn3([S3, T3, U], set_labels=('S', 'T', 'U'))\n",
    "v.get_label_by_id('111').set_text(S3 & T3 & U)\n",
    "plt.show()"
   ]
  },
  {
   "cell_type": "markdown",
   "metadata": {
    "collapsed": true
   },
   "source": [
    "9.\n",
    "\n",
    "It is not possible visualize the relations among 4 or more sets in a Venn diagram that uses _circles_, specifically, although it may be possible using other shapes.\n",
    "\n",
    "As stated in [1]: \"We need 2^n regions in a Venn diagram for n sets, but can create at most n^2 - n + 2 regions from the intersection of n circles. This means we can construct Venn diagrams using circles only for three or fewer sets.\"\n",
    "\n",
    "[1] https://web.archive.org/web/20190412205609/http://www.brynmawr.edu/math/people/anmyers/PAPERS/Venn.pdf"
   ]
  },
  {
   "cell_type": "code",
   "execution_count": null,
   "metadata": {
    "collapsed": true
   },
   "outputs": [],
   "source": []
  }
 ],
 "metadata": {
  "kernelspec": {
   "display_name": "Python 3",
   "language": "python",
   "name": "python3"
  },
  "language_info": {
   "codemirror_mode": {
    "name": "ipython",
    "version": 3
   },
   "file_extension": ".py",
   "mimetype": "text/x-python",
   "name": "python",
   "nbconvert_exporter": "python",
   "pygments_lexer": "ipython3",
   "version": "3.6.3"
  }
 },
 "nbformat": 4,
 "nbformat_minor": 2
}
