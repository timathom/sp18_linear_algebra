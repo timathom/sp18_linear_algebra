{
 "cells": [
  {
   "cell_type": "code",
   "execution_count": 1,
   "metadata": {
    "collapsed": true
   },
   "outputs": [],
   "source": [
    "\"\"\"Assignment 5\n",
    "\n",
    "@author: Tim Thompson, timathom@indiana.edu\n",
    "\"\"\"\n",
    "\n",
    "import numpy as np\n",
    "import matplotlib.pyplot as plt\n",
    "from numdifftools import Derivative\n",
    "from sympy.abc import x\n",
    "from sympy import solveset, S, N\n",
    "from scipy.special import factorial\n",
    "import math\n",
    "import inspect"
   ]
  },
  {
   "cell_type": "markdown",
   "metadata": {},
   "source": [
    "1.\n",
    "\n",
    "Using sympy to solve for the root of the function, we get the same answer as before: {-1.27372233678738}"
   ]
  },
  {
   "cell_type": "code",
   "execution_count": 2,
   "metadata": {},
   "outputs": [
    {
     "name": "stdout",
     "output_type": "stream",
     "text": [
      "{-1.27372233678738}\n"
     ]
    }
   ],
   "source": [
    "print(N(solveset(2 * (x ** 3) - 3 * (x ** 2) + 9, domain=S.Reals)))"
   ]
  },
  {
   "cell_type": "markdown",
   "metadata": {},
   "source": [
    "2."
   ]
  },
  {
   "cell_type": "code",
   "execution_count": 3,
   "metadata": {
    "collapsed": true
   },
   "outputs": [
    {
     "data": {
      "image/png": "[encoded data removed]",
      "text/plain": [
       "<matplotlib.figure.Figure at 0x7f17dc76f710>"
      ]
     },
     "metadata": {},
     "output_type": "display_data"
    }
   ],
   "source": [
    "data = np.linspace(-2, 2, 1001)\n",
    "\n",
    "\n",
    "def e_x(x):\n",
    "    return np.e**(x)\n",
    "\n",
    "\n",
    "def point(x, y): plt.plot(x, y, 'o', label=\"$(\" + str(x) + \",\" + str(y) + \")$\")\n",
    "\n",
    "\n",
    "def points_form(x0, y0, x1, y1, x, start, stop, dim):\n",
    "    point_slope_form(x0, y0, (y1-y0)/(x1-x0), x, start, stop, dim)\n",
    "\n",
    "\n",
    "def point_slope_form(x0, y0, m, x, start, stop, dim):\n",
    "    plt.plot(x,\n",
    "             np.linspace(m * (start - x0) + y0, m * (stop - x0) + y0, dim),\n",
    "             label=\"$y=\" + str(m) + \"x+\" + str(m * (-x0) + y0) + \"$\")\n",
    "    point(x0, y0)\n",
    "\n",
    "\n",
    "def plot_tan(f, x0, x, start, stop, dim):\n",
    "    dx = Derivative(f)(x0)\n",
    "    point_slope_form(x0, f(x0), dx, x, start, stop, dim)\n",
    "\n",
    "\n",
    "plot_tan(e_x, 0.5, data, -2, 2, 1001)\n",
    "plt.plot(data, e_x(data))\n",
    "plt.legend()\n",
    "plt.show()"
   ]
  },
  {
   "cell_type": "markdown",
   "metadata": {},
   "source": [
    "3. I don't understand exactly what this question is asking for."
   ]
  },
  {
   "cell_type": "code",
   "execution_count": 4,
   "metadata": {},
   "outputs": [
    {
     "data": {
      "image/png": "[encoded data removed]",
      "text/plain": [
       "<matplotlib.figure.Figure at 0x7f17d4810550>"
      ]
     },
     "metadata": {},
     "output_type": "display_data"
    }
   ],
   "source": [
    "plt.plot(data, e_x(data), label=\"$e^x$\")\n",
    "plt.legend()\n",
    "plt.show()"
   ]
  },
  {
   "cell_type": "markdown",
   "metadata": {},
   "source": [
    "4.\n",
    "\n",
    "The concept of currying and uncurrying functions was poorly explained in the lecture notes, so it seems neither fair nor appropriate to ask for this in the assignment. This is a course in linear algebra, not functional programming.\n",
    "\n",
    "That said, I think this is what's being asked for."
   ]
  },
  {
   "cell_type": "code",
   "execution_count": 5,
   "metadata": {},
   "outputs": [
    {
     "name": "stdout",
     "output_type": "stream",
     "text": [
      "-1.4999999999999998\n"
     ]
    }
   ],
   "source": [
    "def f(x): return 2 * (x ** 3) - 3 * (x ** 2) + 9\n",
    "\n",
    "\n",
    "def uncurry(f):\n",
    "    return lambda x, y: f(x)(y)\n",
    "\n",
    "\n",
    "uncurried = uncurry(Derivative)\n",
    "print(uncurried(f, 0.5))"
   ]
  },
  {
   "cell_type": "markdown",
   "metadata": {},
   "source": [
    "5.\n",
    "\n",
    "Calling the inner function in this way throws an error (function not defined). The inner function is scoped to the outer function (closure), so it cannot be called from the global scope."
   ]
  },
  {
   "cell_type": "markdown",
   "metadata": {},
   "source": [
    "6.\n",
    "\n",
    "The code prints False. This is reasonable because each call to the function is assigned to a different memory address and so has a different identity. No two calls to the same function are identical."
   ]
  },
  {
   "cell_type": "markdown",
   "metadata": {},
   "source": [
    "7.\n",
    "\n",
    "The derivative of `f(x) = 2` is 0 because the derivative of a constant is always 0."
   ]
  },
  {
   "cell_type": "markdown",
   "metadata": {},
   "source": [
    "8.\n",
    "\n",
    "k = 2, k = 3\n",
    "\n",
    "Using the binomial theorem to calculate the derivative of a point, we can verify that it is equivalent to k * x_0^k-1"
   ]
  },
  {
   "cell_type": "code",
   "execution_count": 6,
   "metadata": {},
   "outputs": [
    {
     "name": "stdout",
     "output_type": "stream",
     "text": [
      "k = 2\n",
      "Binomial theorem:  2.80000100017\n",
      "Rule:  2.8\n",
      "Equivalent =  True\n",
      "k = 3\n",
      "Binomial theorem:  5.88000419999\n",
      "Rule:  5.879999999999999\n",
      "Equivalent =  True\n"
     ]
    }
   ],
   "source": [
    "data2 = np.linspace(-2, 2, 101)\n",
    "\n",
    "\n",
    "def binomial_theorem(x, n, h=0.000001):\n",
    "    a = np.sum((factorial(n) / (factorial(k) * factorial(n - k))) * x**(n - k) * h**k for k in range(n + 1))\n",
    "    b = x**n\n",
    "    return (a - b) / h\n",
    "\n",
    "\n",
    "for k in [2, 3]:\n",
    "\n",
    "    print(\"k = \" + str(k))\n",
    "\n",
    "    print(\"Binomial theorem: \", binomial_theorem(1.4, k))\n",
    "\n",
    "    rule = k * (1.4**(k - 1))\n",
    "\n",
    "    print(\"Rule: \", rule)\n",
    "\n",
    "    print(\"Equivalent = \", (rule - binomial_theorem(1.4, k)) < 0.000001)"
   ]
  },
  {
   "cell_type": "markdown",
   "metadata": {},
   "source": [
    "9.\n",
    "\n",
    "(1 + 0.01)^3 = 1.030302"
   ]
  },
  {
   "cell_type": "code",
   "execution_count": 7,
   "metadata": {},
   "outputs": [
    {
     "name": "stdout",
     "output_type": "stream",
     "text": [
      "1.030302\n"
     ]
    }
   ],
   "source": [
    "x0 = ((3 * 2) / (3 * 2))\n",
    "x1 = ((3 * 2) / 2) * 0.01\n",
    "x2 = ((3 * 2) / 2) * 0.01**2\n",
    "x3 = ((3 * 2) / 3) * 0.01**3\n",
    "\n",
    "total = (x0 + x1 + x2 + x3)\n",
    "print(total)"
   ]
  },
  {
   "cell_type": "markdown",
   "metadata": {},
   "source": [
    "10.\n",
    "\n",
    "The lecture notes state, \"However, completely understanding the proof of the general formula in the table is not easy, and will be omitted here.\"\n",
    "\n",
    "Therefore, I must note that it is unfair that students would be asked to do something that was not covered in the content or scope of the course.\n",
    "\n",
    "Proof based on https://www.youtube.com/watch?v=ElyrN5M91Ho"
   ]
  },
  {
   "cell_type": "code",
   "execution_count": 8,
   "metadata": {},
   "outputs": [
    {
     "name": "stdout",
     "output_type": "stream",
     "text": [
      "Answer:  2.8\n"
     ]
    }
   ],
   "source": [
    "# First initialize some variables with example values to make this workable in Python.\n",
    "\n",
    "x = 1.4\n",
    "n = 2\n",
    "y = x**n\n",
    "dy_dx = 1.\n",
    "\n",
    "# 1. Express the exponential function as a logarithm: log_x(y) = n\n",
    "math.log(y, x) == n  # True\n",
    "\n",
    "# 2. log_x(y) = n can be rewritten as ln(y) / ln(x)\n",
    "math.log(y, x) == np.log(y) / np.log(x)  # True\n",
    "\n",
    "# 3. Multiply both sides by ln(x)\n",
    "np.log(x) * np.log(y) / np.log(x) == n * np.log(x)  # True\n",
    "\n",
    "np.log(y) == n * np.log(x)  # True\n",
    "\n",
    "# 4. Use implicit differentiation to solve\n",
    "# The derivative of ln(y) is 1/y\n",
    "1/y * dy_dx == n/x  # False because not yet solved for dy_dx\n",
    "\n",
    "# Multiply both sides by y\n",
    "y * 1/y * dy_dx == n/x * y  # False because not yet solved for dy_dx\n",
    "\n",
    "# dy_dx now by itself\n",
    "dy_dx = n/x * y\n",
    "\n",
    "# Substitute x**n for y\n",
    "dy_dx = n/x * x**n\n",
    "\n",
    "# Rewrite fraction as negative exponent\n",
    "dy_dx = n * x**-1 * x**n\n",
    "\n",
    "# Multiply x terms to combine exponents\n",
    "dy_dx = n * x**(n - 1)\n",
    "\n",
    "print(\"Answer: \", dy_dx)"
   ]
  },
  {
   "cell_type": "markdown",
   "metadata": {},
   "source": [
    "11."
   ]
  },
  {
   "cell_type": "code",
   "execution_count": 9,
   "metadata": {
    "collapsed": true
   },
   "outputs": [],
   "source": [
    "def f1(x):\n",
    "    def f(x):\n",
    "        return x**7 + (3 * x**6) - 4**2 + 5\n",
    "    return Derivative(f)(x)\n",
    "\n",
    "\n",
    "def f2(x):\n",
    "    def f(x):\n",
    "        return (x**2 + (3 * x) - 1) * (x**4 - (8 * x))\n",
    "    return Derivative(f)(x)\n",
    "\n",
    "\n",
    "def f3(x):\n",
    "    def f(x):\n",
    "        return (x**2 - 1) / (x**2 + 1)\n",
    "    return Derivative(f)(x)\n",
    "\n",
    "\n",
    "def f4(x):\n",
    "    def f(x):\n",
    "        return (x**3 - (4 * x**2) + 1)**5\n",
    "    return Derivative(f)(x)\n",
    "\n",
    "\n",
    "def f5(x):\n",
    "    def f(x):\n",
    "        return (3 * x**(2./3)) + (3 * x**-1)\n",
    "    return Derivative(f)(x)"
   ]
  },
  {
   "cell_type": "markdown",
   "metadata": {},
   "source": [
    "12."
   ]
  },
  {
   "cell_type": "code",
   "execution_count": 10,
   "metadata": {},
   "outputs": [
    {
     "name": "stdout",
     "output_type": "stream",
     "text": [
      "25.000065997815568\n"
     ]
    }
   ],
   "source": [
    "h = 0.000001\n",
    "\n",
    "\n",
    "def f1_2(x):\n",
    "    return x**7 + (3 * x**6) - 4**2 + 5\n",
    "\n",
    "\n",
    "print((f1_2(1 + h) - f1_2(1)) / h)"
   ]
  },
  {
   "cell_type": "markdown",
   "metadata": {},
   "source": [
    "13.\n",
    "\n",
    "This question is not clear, but I believe it refers to the difference between computing the derivative directly (e.g., by the binomial theorem) versus computing it using the definition. The Derivative library in Python will always include a tiny fractional component because h can never equal 0. When calculating directly, however, h is factored out as it approaches 0."
   ]
  },
  {
   "cell_type": "markdown",
   "metadata": {},
   "source": [
    "14.\n",
    "\n",
    "The Python `inspect` module support introspection of Python code. For example:"
   ]
  },
  {
   "cell_type": "code",
   "execution_count": 12,
   "metadata": {},
   "outputs": [
    {
     "name": "stdout",
     "output_type": "stream",
     "text": [
      "def f1_2(x):\n",
      "    return x**7 + (3 * x**6) - 4**2 + 5\n",
      "\n"
     ]
    }
   ],
   "source": [
    "# Returns the text of the function as a string.\n",
    "print(inspect.getsource(f1_2))"
   ]
  },
  {
   "cell_type": "markdown",
   "metadata": {},
   "source": [
    "15."
   ]
  },
  {
   "cell_type": "code",
   "execution_count": 13,
   "metadata": {},
   "outputs": [
    {
     "name": "stdout",
     "output_type": "stream",
     "text": [
      "Addition rule:  True\n",
      "Difference rule:  True\n",
      "Product rule:  True\n",
      "Product rule:  True\n",
      "Quotient rule:  True\n",
      "Power rule:  True\n",
      "Chain rule:  True\n"
     ]
    },
    {
     "name": "stderr",
     "output_type": "stream",
     "text": [
      "/home/tat2/.pyenv/versions/anaconda3-5.0.1/lib/python3.6/site-packages/ipykernel_launcher.py:11: RuntimeWarning: invalid value encountered in log\n",
      "  # This is added back by InteractiveShellApp.init_path()\n",
      "/home/tat2/.pyenv/versions/anaconda3-5.0.1/lib/python3.6/site-packages/numdifftools/extrapolation.py:443: RuntimeWarning: invalid value encountered in less_equal\n",
      "  converged = err <= tol\n",
      "/home/tat2/.pyenv/versions/anaconda3-5.0.1/lib/python3.6/site-packages/numdifftools/limits.py:150: RuntimeWarning: invalid value encountered in less\n",
      "  outliers = (((abs(der) < (a_median / trim_fact)) +\n",
      "/home/tat2/.pyenv/versions/anaconda3-5.0.1/lib/python3.6/site-packages/numdifftools/limits.py:151: RuntimeWarning: invalid value encountered in greater\n",
      "  (abs(der) > (a_median * trim_fact))) * (a_median > 1e-8) +\n",
      "/home/tat2/.pyenv/versions/anaconda3-5.0.1/lib/python3.6/site-packages/numdifftools/limits.py:152: RuntimeWarning: invalid value encountered in less\n",
      "  ((der < p25-1.5*iqr) + (p75+1.5*iqr < der)))\n",
      "/home/tat2/.pyenv/versions/anaconda3-5.0.1/lib/python3.6/site-packages/ipykernel_launcher.py:11: RuntimeWarning: invalid value encountered in log\n",
      "  # This is added back by InteractiveShellApp.init_path()\n",
      "/home/tat2/.pyenv/versions/anaconda3-5.0.1/lib/python3.6/site-packages/numdifftools/extrapolation.py:443: RuntimeWarning: invalid value encountered in less_equal\n",
      "  converged = err <= tol\n",
      "/home/tat2/.pyenv/versions/anaconda3-5.0.1/lib/python3.6/site-packages/numdifftools/limits.py:150: RuntimeWarning: invalid value encountered in less\n",
      "  outliers = (((abs(der) < (a_median / trim_fact)) +\n",
      "/home/tat2/.pyenv/versions/anaconda3-5.0.1/lib/python3.6/site-packages/numdifftools/limits.py:151: RuntimeWarning: invalid value encountered in greater\n",
      "  (abs(der) > (a_median * trim_fact))) * (a_median > 1e-8) +\n",
      "/home/tat2/.pyenv/versions/anaconda3-5.0.1/lib/python3.6/site-packages/numdifftools/limits.py:152: RuntimeWarning: invalid value encountered in less\n",
      "  ((der < p25-1.5*iqr) + (p75+1.5*iqr < der)))\n",
      "/home/tat2/.pyenv/versions/anaconda3-5.0.1/lib/python3.6/site-packages/ipykernel_launcher.py:11: RuntimeWarning: invalid value encountered in log\n",
      "  # This is added back by InteractiveShellApp.init_path()\n",
      "/home/tat2/.pyenv/versions/anaconda3-5.0.1/lib/python3.6/site-packages/numdifftools/extrapolation.py:443: RuntimeWarning: invalid value encountered in less_equal\n",
      "  converged = err <= tol\n",
      "/home/tat2/.pyenv/versions/anaconda3-5.0.1/lib/python3.6/site-packages/numdifftools/limits.py:150: RuntimeWarning: invalid value encountered in less\n",
      "  outliers = (((abs(der) < (a_median / trim_fact)) +\n",
      "/home/tat2/.pyenv/versions/anaconda3-5.0.1/lib/python3.6/site-packages/numdifftools/limits.py:151: RuntimeWarning: invalid value encountered in greater\n",
      "  (abs(der) > (a_median * trim_fact))) * (a_median > 1e-8) +\n",
      "/home/tat2/.pyenv/versions/anaconda3-5.0.1/lib/python3.6/site-packages/numdifftools/limits.py:152: RuntimeWarning: invalid value encountered in less\n",
      "  ((der < p25-1.5*iqr) + (p75+1.5*iqr < der)))\n",
      "/home/tat2/.pyenv/versions/anaconda3-5.0.1/lib/python3.6/site-packages/ipykernel_launcher.py:11: RuntimeWarning: invalid value encountered in log\n",
      "  # This is added back by InteractiveShellApp.init_path()\n",
      "/home/tat2/.pyenv/versions/anaconda3-5.0.1/lib/python3.6/site-packages/numdifftools/extrapolation.py:443: RuntimeWarning: invalid value encountered in less_equal\n",
      "  converged = err <= tol\n",
      "/home/tat2/.pyenv/versions/anaconda3-5.0.1/lib/python3.6/site-packages/numdifftools/limits.py:150: RuntimeWarning: invalid value encountered in less\n",
      "  outliers = (((abs(der) < (a_median / trim_fact)) +\n",
      "/home/tat2/.pyenv/versions/anaconda3-5.0.1/lib/python3.6/site-packages/numdifftools/limits.py:151: RuntimeWarning: invalid value encountered in greater\n",
      "  (abs(der) > (a_median * trim_fact))) * (a_median > 1e-8) +\n",
      "/home/tat2/.pyenv/versions/anaconda3-5.0.1/lib/python3.6/site-packages/numdifftools/limits.py:152: RuntimeWarning: invalid value encountered in less\n",
      "  ((der < p25-1.5*iqr) + (p75+1.5*iqr < der)))\n",
      "/home/tat2/.pyenv/versions/anaconda3-5.0.1/lib/python3.6/site-packages/ipykernel_launcher.py:11: RuntimeWarning: invalid value encountered in log\n",
      "  # This is added back by InteractiveShellApp.init_path()\n",
      "/home/tat2/.pyenv/versions/anaconda3-5.0.1/lib/python3.6/site-packages/numdifftools/extrapolation.py:443: RuntimeWarning: invalid value encountered in less_equal\n",
      "  converged = err <= tol\n",
      "/home/tat2/.pyenv/versions/anaconda3-5.0.1/lib/python3.6/site-packages/numdifftools/limits.py:150: RuntimeWarning: invalid value encountered in less\n",
      "  outliers = (((abs(der) < (a_median / trim_fact)) +\n",
      "/home/tat2/.pyenv/versions/anaconda3-5.0.1/lib/python3.6/site-packages/numdifftools/limits.py:151: RuntimeWarning: invalid value encountered in greater\n",
      "  (abs(der) > (a_median * trim_fact))) * (a_median > 1e-8) +\n",
      "/home/tat2/.pyenv/versions/anaconda3-5.0.1/lib/python3.6/site-packages/numdifftools/limits.py:152: RuntimeWarning: invalid value encountered in less\n",
      "  ((der < p25-1.5*iqr) + (p75+1.5*iqr < der)))\n"
     ]
    }
   ],
   "source": [
    "# Constants for testing\n",
    "h = 0.000001\n",
    "x_ = 2\n",
    "k_ = 2\n",
    "\n",
    "# f(x)\n",
    "def f_(x): return x**3\n",
    "\n",
    "\n",
    "# g(x)\n",
    "def g_(x): return np.log(x)\n",
    "\n",
    "\n",
    "# Addition rule\n",
    "def f6(f, g, x):\n",
    "    return ((3 * x**2) + 1./x) - (Derivative(f)(x) + Derivative(g)(x)) < h\n",
    "\n",
    "\n",
    "# Difference rule\n",
    "def f7(f, g, x):\n",
    "    return ((3 * x**2) - 1./x) - (Derivative(f)(x) + Derivative(g)(x)) < h\n",
    "\n",
    "\n",
    "# Product rule\n",
    "def f8(f, x, k):\n",
    "    return k * (3 * x**2) - (k * Derivative(f)(x)) < h\n",
    "\n",
    "\n",
    "# Product rule\n",
    "def f9(f, g, x):\n",
    "    return ((3 * x**2) * np.log(x) + x**2) - ((Derivative(f)(x) * g(x)) + (f(x) * Derivative(g)(x))) < h\n",
    "\n",
    "\n",
    "# Quotient rule\n",
    "def f10(f, g, x):\n",
    "    num = (((3 * x**2) * np.log(x)) - (x**3 * 1./x))\n",
    "    den = np.log(x)**2\n",
    "    return (num / den) - (((Derivative(f)(x) * g(x)) - (f(x) * Derivative(g)(x))) / g(x)**2) < h\n",
    "\n",
    "\n",
    "# Power rule\n",
    "def f11(f, x, k):\n",
    "    func = lambda x: f(x)**k\n",
    "    return (k * f(x)**(k - 1) * (3 * x**2)) - (Derivative(func)(x)) < h\n",
    "\n",
    "\n",
    "# Chain rule\n",
    "def f12(f, g, x):\n",
    "    func = lambda x: f(g(x))\n",
    "    return ((3 * (np.log(x))**2) * 1./x) - (Derivative(f)(g(x)) * Derivative(g)(x)) < h\n",
    "\n",
    "\n",
    "print(\"Addition rule: \", f6(f_, g_, x_))\n",
    "\n",
    "print(\"Difference rule: \", f7(f_, g_, x_))\n",
    "\n",
    "print(\"Product rule: \", f8(f_, x_, k_))\n",
    "\n",
    "print(\"Product rule: \", f9(f_, g_, x_))\n",
    "\n",
    "print(\"Quotient rule: \", f10(f_, g_, x_))\n",
    "\n",
    "print(\"Power rule: \", f11(f_, x_, k_))\n",
    "\n",
    "print(\"Chain rule: \", f12(f_, g_, x_))"
   ]
  }
 ],
 "metadata": {
  "kernelspec": {
   "display_name": "Python 3",
   "language": "python",
   "name": "python3"
  },
  "language_info": {
   "codemirror_mode": {
    "name": "ipython",
    "version": 3
   },
   "file_extension": ".py",
   "mimetype": "text/x-python",
   "name": "python",
   "nbconvert_exporter": "python",
   "pygments_lexer": "ipython3",
   "version": "3.6.3"
  }
 },
 "nbformat": 4,
 "nbformat_minor": 2
}
