{
 "cells": [
  {
   "cell_type": "code",
   "execution_count": 8,
   "metadata": {
    "collapsed": true
   },
   "outputs": [],
   "source": [
    "\"\"\"Assignment 7\n",
    "\n",
    "@author: Tim Thompson, timathom@indiana.edu\n",
    "\"\"\"\n",
    "\n",
    "import numpy as np\n",
    "import matplotlib.pyplot as plt\n",
    "from numdifftools import Derivative\n",
    "from sympy import *\n",
    "from sympy.abc import x, y, a, b\n",
    "from sympy import solve, solveset, S, N\n",
    "from sympy import init_printing, Matrix, pprint, Transpose\n",
    "from scipy.special import factorial\n",
    "import math\n",
    "\n",
    "init_printing()\n",
    "\n",
    "data = np.linspace(-2, 2, 101)\n",
    "data2 = np.linspace(-1, 5, 101)"
   ]
  },
  {
   "cell_type": "markdown",
   "metadata": {},
   "source": [
    "1.\n",
    "\n",
    "Yes, numpy can be used to define a matrix in Python. Numpy arrays can be used for matrix operations. However, numpy also includes a matrix method as a subtype of ndarray, limited to 2 dimensions.\n",
    "\n",
    "Numpy matrices are convenient because they allow for operations such as computing the matrix product with having to use the dot method"
   ]
  },
  {
   "cell_type": "code",
   "execution_count": 9,
   "metadata": {},
   "outputs": [
    {
     "name": "stdout",
     "output_type": "stream",
     "text": [
      "[[ True  True]\n",
      " [ True  True]]\n"
     ]
    }
   ],
   "source": [
    "A = np.array([[1, x], [y, 1]])\n",
    "B = np.array([[x, 3], [2, y]])\n",
    "C = np.matrix([[1, x], [y, 1]])\n",
    "D = np.matrix([[x, 3], [2, y]])\n",
    "\n",
    "print(np.dot(A, B) == (C * D))"
   ]
  },
  {
   "cell_type": "markdown",
   "metadata": {},
   "source": [
    "2.\n",
    "\n",
    "Transposing a column matrix (vector) yields a row matrix (vector)."
   ]
  },
  {
   "cell_type": "code",
   "execution_count": 3,
   "metadata": {},
   "outputs": [
    {
     "name": "stdout",
     "output_type": "stream",
     "text": [
      "Column matrix:  [[1]\n",
      " [x]\n",
      " [y]]\n",
      "Transpose:  [[1 x y]]\n"
     ]
    }
   ],
   "source": [
    "E = np.matrix([1, x, y])\n",
    "print(\"Column matrix: \", E.reshape((3, 1)))\n",
    "print(\"Transpose: \", E.reshape((3, 1)).T)"
   ]
  },
  {
   "cell_type": "markdown",
   "metadata": {},
   "source": [
    "3.\n",
    "\n",
    "The answers in the Stack Overflow post are not about printing 3 matrices in a row, as stated, but rather about printing a single matrix in tabular form.\n",
    "\n",
    "For data manipulation, using numpy in combination with the pandas library would be the best solution."
   ]
  },
  {
   "cell_type": "markdown",
   "metadata": {},
   "source": [
    "4."
   ]
  },
  {
   "cell_type": "code",
   "execution_count": 4,
   "metadata": {},
   "outputs": [
    {
     "name": "stdout",
     "output_type": "stream",
     "text": [
      "Square matrix\n",
      "Symmetric\n",
      "Diagonal\n",
      "Identity\n",
      "Zero matrix\n",
      "Column matrix\n",
      "Row matrix\n"
     ]
    }
   ],
   "source": [
    "square = Matrix([[x, y], [a, b]])\n",
    "sym = Matrix([[1, 7, 3], [7, 4, -5], [3, -5, 6]])\n",
    "d = diag(x, y)\n",
    "idm = eye(2)\n",
    "z = zeros(2)\n",
    "col = Matrix([x, y])\n",
    "row = Matrix([[x, y]])\n",
    "\n",
    "\n",
    "def square_mat(M):\n",
    "    if M.shape[0] == M.shape[1]:\n",
    "        return \"Square matrix\"\n",
    "    else:\n",
    "        return \"Not a square matrix\"\n",
    "\n",
    "\n",
    "def sym_mat(M):\n",
    "    test = []\n",
    "    for i in range(M.shape[0]):\n",
    "        for j in range(M.shape[1]):\n",
    "            if i != j:\n",
    "                if M[i, j] == M[j, i]:\n",
    "                    test.append(True)\n",
    "                else:\n",
    "                    test.append(False)\n",
    "    if False in test:\n",
    "        return \"Not symmetric\"\n",
    "    else:\n",
    "        return \"Symmetric\"\n",
    "\n",
    "\n",
    "def diag_mat(M):\n",
    "    if M.shape[0] == M.shape[1]:\n",
    "        test = []\n",
    "        for i in range(M.shape[0]):\n",
    "            for j in range(M.shape[1]):\n",
    "                if i != j:\n",
    "                    if M[i, j] == 0:\n",
    "                        test.append(True)\n",
    "                    else:\n",
    "                        test.append(False)\n",
    "        if False in test:\n",
    "            return \"Not diagonal\"\n",
    "        else:\n",
    "            return \"Diagonal\"\n",
    "    else:\n",
    "        return \"Not a square matrix\"\n",
    "\n",
    "\n",
    "def eye_mat(M):\n",
    "    if M.shape[0] == M.shape[1]:\n",
    "        test = []\n",
    "        for i in range(M.shape[0]):\n",
    "            for j in range(M.shape[1]):\n",
    "                if i == j:\n",
    "                    if M[i, j] == 1:\n",
    "                        test.append(True)\n",
    "                    else:\n",
    "                        test.append(False)\n",
    "                if i != j:\n",
    "                    if M[i, j] == 0:\n",
    "                        test.append(True)\n",
    "                    else:\n",
    "                        test.append(False)\n",
    "        if False in test:\n",
    "            return \"Not identity\"\n",
    "        else:\n",
    "            return \"Identity\"\n",
    "    else:\n",
    "        return \"Not a square matrix\"\n",
    "\n",
    "\n",
    "def zero_mat(M):\n",
    "    s = M.shape[0]\n",
    "    idm = eye(s)\n",
    "    if idm * M == M:\n",
    "        return \"Zero matrix\"\n",
    "    else:\n",
    "        return \"Not zero\"\n",
    "\n",
    "\n",
    "def col_mat(M):\n",
    "    if M.shape == (2, 1):\n",
    "        return \"Column matrix\"\n",
    "    else:\n",
    "        return \"Not column\"\n",
    "\n",
    "\n",
    "def row_mat(M):\n",
    "    if M.shape == (1, 2):\n",
    "        return \"Row matrix\"\n",
    "    else:\n",
    "        return \"Not row\"\n",
    "\n",
    "\n",
    "print(square_mat(square))\n",
    "print(sym_mat(sym))\n",
    "print(diag_mat(d))\n",
    "print(eye_mat(idm))\n",
    "print(zero_mat(z))\n",
    "print(col_mat(col))\n",
    "print(row_mat(row))"
   ]
  },
  {
   "cell_type": "markdown",
   "metadata": {},
   "source": [
    "5.\n",
    "\n",
    "It is not clear what this question is asking for exactly.\n",
    "\n",
    "Numpy can natively produce the same kinds of common arrays/matrices as Sympy."
   ]
  },
  {
   "cell_type": "code",
   "execution_count": 5,
   "metadata": {},
   "outputs": [
    {
     "name": "stdout",
     "output_type": "stream",
     "text": [
      "Matrices in numpy\n",
      "\n",
      "Zero matrix:  [ 0.  0.]\n",
      "Identity matrix:  [[ 1.  0.]\n",
      " [ 0.  1.]]\n",
      "Diagonal matrix:  [[0 0]\n",
      " [0 3]]\n",
      "Column matrix:  [[1]\n",
      " [3]\n",
      " [4]]\n",
      "Row matrix:  [[1 2 3 4]]\n"
     ]
    }
   ],
   "source": [
    "print(\"Matrices in numpy\")\n",
    "print(\"\")\n",
    "print(\"Zero matrix: \", np.zeros(2))\n",
    "print(\"Identity matrix: \", np.eye(2))\n",
    "x = np.arange(4).reshape((2, 2))\n",
    "print(\"Diagonal matrix: \", np.diag(np.diag(x)))\n",
    "print(\"Column matrix: \", np.matrix([[1], [3], [4]]))\n",
    "print(\"Row matrix: \", np.matrix([1, 2, 3, 4]))"
   ]
  },
  {
   "cell_type": "markdown",
   "metadata": {},
   "source": [
    "6.\n",
    "\n",
    "It's not clear what the second question means. Yes, it should be possible to use Sympy to verify these formulas with matrices of arbitrary size.\n",
    "\n",
    "With Sympy, it's possible to create arbitrary matrices specifying the dimensions and values:"
   ]
  },
  {
   "cell_type": "code",
   "execution_count": 6,
   "metadata": {},
   "outputs": [
    {
     "name": "stdout",
     "output_type": "stream",
     "text": [
      "⎡-2.0  -1.2  -0.4⎤\n",
      "⎢                ⎥\n",
      "⎣0.4   1.2   2.0 ⎦\n"
     ]
    }
   ],
   "source": [
    "pprint(Matrix(2, 3, np.linspace(-2, 2, 6)))"
   ]
  },
  {
   "cell_type": "markdown",
   "metadata": {},
   "source": [
    "These parameters could be used to generate arbitrary matrices for testing.\n",
    "\n",
    "However, addition and substraction operations with transposition must be performed on matrices with the same dimenstions. The first two operations (`pprint((A+B).T == A.T+B.T)` and `pprint((A-B).T == A.T-B.T)`) will fail because the matrices do not have the same dimensions.\n",
    "\n",
    "The second two operations do not have this constraint, so both `pprint(A.T.T == A)` and `pprint((2*A).T == 2*A.T)` will return true."
   ]
  },
  {
   "cell_type": "markdown",
   "metadata": {},
   "source": [
    "7."
   ]
  },
  {
   "cell_type": "code",
   "execution_count": 10,
   "metadata": {},
   "outputs": [
    {
     "name": "stdout",
     "output_type": "stream",
     "text": [
      "r(A + B) = rA + rB:  True\n"
     ]
    }
   ],
   "source": [
    "A2 = Matrix(2, 3, np.linspace(-2, 2, 6))\n",
    "B2 = Matrix(2, 3, np.linspace(-1, 1, 6))\n",
    "r = 2\n",
    "\n",
    "print(\"r(A + B) = rA + rB: \", r * (A2 + B2) == (r * A2 + r * B2))"
   ]
  }
 ],
 "metadata": {
  "kernelspec": {
   "display_name": "Python 3",
   "language": "python",
   "name": "python3"
  },
  "language_info": {
   "codemirror_mode": {
    "name": "ipython",
    "version": 3
   },
   "file_extension": ".py",
   "mimetype": "text/x-python",
   "name": "python",
   "nbconvert_exporter": "python",
   "pygments_lexer": "ipython3",
   "version": "3.6.3"
  }
 },
 "nbformat": 4,
 "nbformat_minor": 2
}
