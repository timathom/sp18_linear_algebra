{
 "cells": [
  {
   "cell_type": "code",
   "execution_count": 1,
   "metadata": {
    "collapsed": true
   },
   "outputs": [],
   "source": [
    "\"\"\"Assignment 9\n",
    "\n",
    "@author: Tim Thompson, timathom@indiana.edu\n",
    "\"\"\"\n",
    "\n",
    "import numpy as np\n",
    "import matplotlib.pyplot as plt\n",
    "from numdifftools import Derivative\n",
    "from sympy import *\n",
    "from sympy.abc import x, y, a, b\n",
    "from sympy import solve, solveset, S, N\n",
    "from sympy import init_printing, Matrix, pprint, Transpose\n",
    "from scipy.special import factorial\n",
    "import math"
   ]
  },
  {
   "cell_type": "markdown",
   "metadata": {},
   "source": [
    "1.\n",
    "\n",
    "The product of A * B is equal to:\n",
    "```\n",
    "1x + 2x       (3 * 1) + xy\n",
    "xy + (2 * 1)  3y + y\n",
    "\n",
    "3x        xy + 3\n",
    "xy + 2    4y\n",
    "```\n",
    "To find the determinant of this 2 x 2 matrix, multiply the diagonals and subtract the second from the first:\n",
    "```\n",
    "(3x * 4y) - ((xy + 3) * (xy + 2))\n",
    "```\n",
    "Simplify and multiply the terms on the left and right:\n",
    "```\n",
    "12xy - (x^2y^2 + 2xy + 3xy + 6)\n",
    "12xy - (x^2y^2 + 5xy + 6)\n",
    "```\n",
    "Subtract 12xy\n",
    "```\n",
    "-(x^2y^2 - 7xy + 6)\n",
    "```\n",
    "Multiply the terms by -1 to get the final, simplified answer\n",
    "```\n",
    "-x^2y^2 + 7xy - 6\n",
    "```"
   ]
  },
  {
   "cell_type": "code",
   "execution_count": 2,
   "metadata": {},
   "outputs": [
    {
     "name": "stdout",
     "output_type": "stream",
     "text": [
      "⎡  3⋅x    x⋅y + 3⎤\n",
      "⎢                ⎥\n",
      "⎣x⋅y + 2    4⋅y  ⎦\n",
      "12⋅x⋅y - (x⋅y + 2)⋅(x⋅y + 3)\n"
     ]
    }
   ],
   "source": [
    "A = Matrix([[1, x], [y, 1]])\n",
    "B = Matrix([[x, 3], [2, y]])\n",
    "\n",
    "# Sympy gives the answer in a different, unsimplified form.\n",
    "\n",
    "pprint(A * B)\n",
    "pprint((A * B).det())"
   ]
  },
  {
   "cell_type": "markdown",
   "metadata": {
    "collapsed": true
   },
   "source": [
    "2.\n",
    "\n",
    "`(C*D).det()` throws an error because of a matrix size mismatch: C is a 3 x 3 matrix, but D is a 2 x 3 matrix. Therefore, they cannot be multiplied.\n",
    "\n",
    "Taking the transpose of D allows the two matrices to be multiplied, but their product is a 3 x 2 matrix, which is not a square matrix. The determinant is only defined for square matrices."
   ]
  }
 ],
 "metadata": {
  "kernelspec": {
   "display_name": "Python 3",
   "language": "python",
   "name": "python3"
  },
  "language_info": {
   "codemirror_mode": {
    "name": "ipython",
    "version": 3
   },
   "file_extension": ".py",
   "mimetype": "text/x-python",
   "name": "python",
   "nbconvert_exporter": "python",
   "pygments_lexer": "ipython3",
   "version": "3.6.3"
  }
 },
 "nbformat": 4,
 "nbformat_minor": 2
}
