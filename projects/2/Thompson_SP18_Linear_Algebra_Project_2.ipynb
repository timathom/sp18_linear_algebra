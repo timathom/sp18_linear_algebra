{
 "cells": [
  {
   "cell_type": "markdown",
   "metadata": {},
   "source": [
    "# Project 2: Explain what and why we did in 8.2 Linear Regression"
   ]
  },
  {
   "cell_type": "markdown",
   "metadata": {},
   "source": [
    "## SP18: Linear Algebra"
   ]
  },
  {
   "cell_type": "markdown",
   "metadata": {},
   "source": [
    "### Tim Thompson\n",
    "### timathom@indiana.edu"
   ]
  },
  {
   "cell_type": "code",
   "execution_count": 196,
   "metadata": {
    "collapsed": true
   },
   "outputs": [],
   "source": [
    "import os\n",
    "import sys\n",
    "import numpy as np; np.random.seed(8)\n",
    "from numpy.linalg import inv\n",
    "from sklearn.linear_model import LinearRegression\n",
    "import matplotlib.pyplot as plt\n",
    "import seaborn as sns; sns.set(color_codes=True)\n",
    "import pandas\n",
    "np.set_printoptions(precision=2, threshold=sys.maxsize, linewidth=100, suppress=True, formatter={'float': '{: 0.2f}'.format})\n",
    "%matplotlib inline\n",
    "relative_path = os.getcwd()\n",
    "data_path = relative_path + \"/concrete.csv\"\n",
    "data = pandas.read_csv(data_path)"
   ]
  },
  {
   "cell_type": "markdown",
   "metadata": {},
   "source": [
    "As stated in section 8.2, Linear Regression, from the _Machine Learning with Python_ OnRamp course, linear regression is a method for modeling a linear relationship between a set of explanatory (independent) variables $X$ and a set of response (dependent) variables $Y$. \n",
    "\n",
    "In section 8.2 of the Machine Learning course, linear regression was introduced as a function $f(x) = y$ where $f(x) = mx + c$. This is a linear function (as defined in section 3.3, Polynomial Function and Solve a Polynomial Equation, of the current course), such that $m$ defines the slope of the function and $c$ defines the value of $x$ at which $f(x) = 0$. \n",
    "\n",
    "The goal of linear regression is to minimize the error of the Sum of Squared Residuals (abbreviated as RSS; also referred to as the Sum of Squared Error, SSE):\n",
    "\n",
    "$$\\sum_{i=1}^n(y_{i}-f(x_{i}))^{2}$$\n",
    "\n",
    "Expanding for $f(x)$ yields:\n",
    "\n",
    "$$\\sum_{i=1}^{n}(y_{i}-(c+mx_{i}))^{2}$$\n",
    "\n",
    "The residuals represent the distance between the value of $\\hat{y}_{i}$ predicted by the regression model and the actual value of $y_{i}$.\n",
    "\n",
    "For example, the scatterplot in Fig. 1 plots a simple linear function and generates a sample of random data around it. The vertical bars between the data points and the regression line represent the residual error of the model.\n",
    "\n",
    "The RSS is minimized by solving for the value of the regression coefficient $m$ that defines the best-fitting slope for the regression line."
   ]
  },
  {
   "cell_type": "code",
   "execution_count": 35,
   "metadata": {},
   "outputs": [
    {
     "data": {
      "image/png": "[encoded data removed]",
      "text/plain": [
       "<matplotlib.figure.Figure at 0x7f880b031358>"
      ]
     },
     "metadata": {},
     "output_type": "display_data"
    }
   ],
   "source": [
    "\"\"\"Scatterplot adapted from:\n",
    "    - https://stackoverflow.com/questions/51220918/python-plot-residuals-on-a-fitted-model#answer-51221620\n",
    "\"\"\"\n",
    "\n",
    "def f(x): return 1 + 0.5 * x\n",
    "\n",
    "x2 = np.linspace(0, 1, 20)\n",
    "y = f(x2)\n",
    "dy = (np.random.rand(20) - 0.5) * 0.5\n",
    "\n",
    "fig, ax = plt.subplots()\n",
    "\n",
    "# Plot the line\n",
    "ax.plot(x2, y)\n",
    "ax.set_title(\"Fig. 1. Scatterplot with residuals\")\n",
    "\n",
    "# Plot the scatterplot\n",
    "ax.scatter(x, y + dy)\n",
    "\n",
    "# Plot the residual lines\n",
    "ax.vlines(x, y, y + dy)\n",
    "\n",
    "plt.show()"
   ]
  },
  {
   "cell_type": "markdown",
   "metadata": {},
   "source": [
    "Matrix algebra is used to calculate regression models with multiple independent variables. In the matrix formulation presented in the _Machine Learning with Python_ OnRamp course, the slope coefficients have been modeled as an array (vector) with dimensions $n + 1 \\times 1$. **Note: I am following the presentation given in section 7.7 of _Machine Learning with Python_, which includes the intercept terms $x_0$ and $w_0$.**\n",
    "\n",
    "The sample data from section 8.2 ([Concrete Compressive Strength Dataset](https://archive.ics.uci.edu/ml/datasets/Concrete+Compressive+Strength)), forms the basis for a linear regression model with 8 independent variables, which are used to predict the dependent variable _concrete compressive strength_ (labeled **ccs**). \n",
    "\n"
   ]
  },
  {
   "cell_type": "code",
   "execution_count": 37,
   "metadata": {},
   "outputs": [
    {
     "data": {
      "text/html": [
       "<div>\n",
       "<style>\n",
       "    .dataframe thead tr:only-child th {\n",
       "        text-align: right;\n",
       "    }\n",
       "\n",
       "    .dataframe thead th {\n",
       "        text-align: left;\n",
       "    }\n",
       "\n",
       "    .dataframe tbody tr th {\n",
       "        vertical-align: top;\n",
       "    }\n",
       "</style>\n",
       "<table border=\"1\" class=\"dataframe\">\n",
       "  <thead>\n",
       "    <tr style=\"text-align: right;\">\n",
       "      <th></th>\n",
       "      <th>ccs</th>\n",
       "      <th>Cement</th>\n",
       "      <th>Blast_Furnace_Slag</th>\n",
       "      <th>Fly_Ash</th>\n",
       "      <th>Water</th>\n",
       "      <th>Superplasticizer</th>\n",
       "      <th>Coarse_Aggregate</th>\n",
       "      <th>Fine_Aggregate</th>\n",
       "      <th>Age</th>\n",
       "    </tr>\n",
       "  </thead>\n",
       "  <tbody>\n",
       "    <tr>\n",
       "      <th>0</th>\n",
       "      <td>79.99</td>\n",
       "      <td>540.0</td>\n",
       "      <td>0.0</td>\n",
       "      <td>0.0</td>\n",
       "      <td>162.0</td>\n",
       "      <td>2.5</td>\n",
       "      <td>1040.0</td>\n",
       "      <td>676.0</td>\n",
       "      <td>28</td>\n",
       "    </tr>\n",
       "    <tr>\n",
       "      <th>1</th>\n",
       "      <td>61.89</td>\n",
       "      <td>540.0</td>\n",
       "      <td>0.0</td>\n",
       "      <td>0.0</td>\n",
       "      <td>162.0</td>\n",
       "      <td>2.5</td>\n",
       "      <td>1055.0</td>\n",
       "      <td>676.0</td>\n",
       "      <td>28</td>\n",
       "    </tr>\n",
       "    <tr>\n",
       "      <th>2</th>\n",
       "      <td>40.27</td>\n",
       "      <td>332.5</td>\n",
       "      <td>142.5</td>\n",
       "      <td>0.0</td>\n",
       "      <td>228.0</td>\n",
       "      <td>0.0</td>\n",
       "      <td>932.0</td>\n",
       "      <td>594.0</td>\n",
       "      <td>270</td>\n",
       "    </tr>\n",
       "    <tr>\n",
       "      <th>3</th>\n",
       "      <td>41.05</td>\n",
       "      <td>332.5</td>\n",
       "      <td>142.5</td>\n",
       "      <td>0.0</td>\n",
       "      <td>228.0</td>\n",
       "      <td>0.0</td>\n",
       "      <td>932.0</td>\n",
       "      <td>594.0</td>\n",
       "      <td>365</td>\n",
       "    </tr>\n",
       "    <tr>\n",
       "      <th>4</th>\n",
       "      <td>44.30</td>\n",
       "      <td>198.6</td>\n",
       "      <td>132.4</td>\n",
       "      <td>0.0</td>\n",
       "      <td>192.0</td>\n",
       "      <td>0.0</td>\n",
       "      <td>978.4</td>\n",
       "      <td>825.5</td>\n",
       "      <td>360</td>\n",
       "    </tr>\n",
       "  </tbody>\n",
       "</table>\n",
       "</div>"
      ],
      "text/plain": [
       "     ccs  Cement  Blast_Furnace_Slag  Fly_Ash  Water  Superplasticizer  \\\n",
       "0  79.99   540.0                 0.0      0.0  162.0               2.5   \n",
       "1  61.89   540.0                 0.0      0.0  162.0               2.5   \n",
       "2  40.27   332.5               142.5      0.0  228.0               0.0   \n",
       "3  41.05   332.5               142.5      0.0  228.0               0.0   \n",
       "4  44.30   198.6               132.4      0.0  192.0               0.0   \n",
       "\n",
       "   Coarse_Aggregate  Fine_Aggregate  Age  \n",
       "0            1040.0           676.0   28  \n",
       "1            1055.0           676.0   28  \n",
       "2             932.0           594.0  270  \n",
       "3             932.0           594.0  365  \n",
       "4             978.4           825.5  360  "
      ]
     },
     "execution_count": 37,
     "metadata": {},
     "output_type": "execute_result"
    }
   ],
   "source": [
    "data.head()"
   ]
  },
  {
   "cell_type": "markdown",
   "metadata": {},
   "source": [
    "The target vector $Y$ is an $m \\times 1$ vector:"
   ]
  },
  {
   "cell_type": "code",
   "execution_count": 69,
   "metadata": {},
   "outputs": [
    {
     "data": {
      "text/plain": [
       "matrix([[ 79.99],\n",
       "        [ 61.89],\n",
       "        [ 40.27],\n",
       "        [ 41.05],\n",
       "        [ 44.30]])"
      ]
     },
     "execution_count": 69,
     "metadata": {},
     "output_type": "execute_result"
    }
   ],
   "source": [
    "X = np.asmatrix(data.values)\n",
    "\n",
    "# Extract the first column from the dataframe\n",
    "\n",
    "Y = X[:, 0]\n",
    "Y[:5]"
   ]
  },
  {
   "cell_type": "markdown",
   "metadata": {},
   "source": [
    "The design matrix, $X$, is an $m \\times n + 1$ matrix where the first column takes the value of $1$ to represent the $y$-intercept term."
   ]
  },
  {
   "cell_type": "code",
   "execution_count": 160,
   "metadata": {
    "collapsed": true
   },
   "outputs": [],
   "source": [
    "X2 = X[:, 1:]\n",
    "X2[:5]\n",
    "\n",
    "# Normalize the data\n",
    "def z_normalize(data):    \n",
    "    return (data - np.mean(data, axis=0)) / np.std(data, axis=0)\n",
    "\n",
    "\n",
    "X2 = z_normalize(X2)"
   ]
  },
  {
   "cell_type": "code",
   "execution_count": 162,
   "metadata": {},
   "outputs": [
    {
     "data": {
      "text/plain": [
       "matrix([[ 1.00,  2.48, -0.86, -0.85, -0.92, -0.62,  0.86, -1.22, -0.28],\n",
       "        [ 1.00,  2.48, -0.86, -0.85, -0.92, -0.62,  1.06, -1.22, -0.28],\n",
       "        [ 1.00,  0.49,  0.80, -0.85,  2.18, -1.04, -0.53, -2.24,  3.55],\n",
       "        [ 1.00,  0.49,  0.80, -0.85,  2.18, -1.04, -0.53, -2.24,  5.06],\n",
       "        [ 1.00, -0.79,  0.68, -0.85,  0.49, -1.04,  0.07,  0.65,  4.98]])"
      ]
     },
     "execution_count": 162,
     "metadata": {},
     "output_type": "execute_result"
    }
   ],
   "source": [
    "# Add a column of ones for the intercept\n",
    "\n",
    "ones = np.ones((len(X2), 1))\n",
    "X3 = np.concatenate((ones, X2), axis=1)\n",
    "X3[:5]"
   ]
  },
  {
   "cell_type": "markdown",
   "metadata": {},
   "source": [
    "The goal is to find an $n + 1 \\times 1$ weight vector $\\hat{W}$, corresponding to the slope coefficient for each independent variable, that optimizes the RSS.\n",
    "\n",
    "The normal equation is used to solve for $\\hat{W}$:\n",
    "\n",
    "$$X^{T}X\\hat{W}=X^{T}Y$$\n",
    "\n",
    "The values of $\\hat{W}$ are found by \"dividing\" the left-hand side of the equation by the inverse of the symmetrical square matrix $X^{T}X$. Matrix division itself is undefined, but multiplying a matrix by its inverse produces an identity matrix, which is equivalent to multiplying by $1$.\n",
    "\n",
    "$$\\hat{W}=(X^{T}X)^{-1}X^{T}Y$$\n"
   ]
  },
  {
   "cell_type": "code",
   "execution_count": 166,
   "metadata": {},
   "outputs": [
    {
     "data": {
      "text/plain": [
       "matrix([[ 35.82],\n",
       "        [ 12.51],\n",
       "        [ 8.96],\n",
       "        [ 5.62],\n",
       "        [-3.20],\n",
       "        [ 1.74],\n",
       "        [ 1.41],\n",
       "        [ 1.62],\n",
       "        [ 7.21]])"
      ]
     },
     "execution_count": 166,
     "metadata": {},
     "output_type": "execute_result"
    }
   ],
   "source": [
    "# Calculate the inverse of the square matrix X * X.T\n",
    "inverse = inv(np.dot(X3.T, X3))\n",
    "\n",
    "# Plug into the equation to solve for W-hat\n",
    "W_hat = np.dot(inverse, np.dot(X3.T, Y))\n",
    "\n",
    "W_hat"
   ]
  },
  {
   "cell_type": "markdown",
   "metadata": {},
   "source": [
    "Solving for $\\hat{Y}$, we have:\n",
    "\n",
    "$$\\hat{Y}=X\\hat{W}$$"
   ]
  },
  {
   "cell_type": "code",
   "execution_count": 171,
   "metadata": {},
   "outputs": [
    {
     "data": {
      "text/plain": [
       "matrix([[ 53.46],\n",
       "        [ 53.73],\n",
       "        [ 56.81],\n",
       "        [ 67.66],\n",
       "        [ 60.91]])"
      ]
     },
     "execution_count": 171,
     "metadata": {},
     "output_type": "execute_result"
    }
   ],
   "source": [
    "Y_hat = np.dot(X3, W_hat)\n",
    "Y_hat[:5]"
   ]
  },
  {
   "cell_type": "markdown",
   "metadata": {},
   "source": [
    "In matrix form, the RSS can be calculated as follows:\n",
    "\n",
    "$$(Y-X\\beta)^{\\prime}(Y-X\\beta)$$\n",
    "\n",
    "The cost function for measuring the error in the model is formulated by multiplying the RSS by $\\frac{1}{2m}$, where $m$ is the number of data points in the set of independent variables."
   ]
  },
  {
   "cell_type": "code",
   "execution_count": 216,
   "metadata": {},
   "outputs": [
    {
     "data": {
      "text/plain": [
       "matrix([[ 53.60]])"
      ]
     },
     "execution_count": 216,
     "metadata": {},
     "output_type": "execute_result"
    }
   ],
   "source": [
    "e_hat = (Y - Y_hat)\n",
    "np.dot(e_hat.T, e_hat) / (2 * len(Y))"
   ]
  }
 ],
 "metadata": {
  "kernelspec": {
   "display_name": "Python 3",
   "language": "python",
   "name": "python3"
  },
  "language_info": {
   "codemirror_mode": {
    "name": "ipython",
    "version": 3
   },
   "file_extension": ".py",
   "mimetype": "text/x-python",
   "name": "python",
   "nbconvert_exporter": "python",
   "pygments_lexer": "ipython3",
   "version": "3.6.3"
  }
 },
 "nbformat": 4,
 "nbformat_minor": 2
}
